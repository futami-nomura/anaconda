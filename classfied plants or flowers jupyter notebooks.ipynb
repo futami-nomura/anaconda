{
 "cells": [
  {
   "cell_type": "code",
   "execution_count": 102,
   "metadata": {},
   "outputs": [],
   "source": [
    "import numpy as np\n",
    "import seaborn as sns\n",
    "import matplotlib.pyplot as plt\n",
    "%matplotlib inline\n",
    "from keras.utils import np_utils\n",
    "from keras.preprocessing.image import ImageDataGenerator\n",
    "from keras.models import Sequential\n",
    "from keras.layers import Dense, Dropout, Activation, Flatten\n",
    "from keras.layers import Conv2D, MaxPooling2D\n",
    "from keras.optimizers import Adam\n",
    "import glob\n",
    "from PIL import Image"
   ]
  },
  {
   "cell_type": "code",
   "execution_count": 103,
   "metadata": {},
   "outputs": [],
   "source": [
    "image = np.empty((0,3,50,50), dtype=np.uint8)\n",
    "result = np.empty((0,2), dtype=np.uint8)\n",
    "\n",
    "list = glob.glob('./work/dataset/plants/*')\n",
    "for i in list:\n",
    "    im_reading = np.array( Image.open(i).resize((50,50)))\n",
    "    im_reading = im_reading.transpose(2,0,1)\n",
    "    image = np.append(image, [im_reading], axis=0)\n",
    "    result = np.append(result, np.array([[1,0]]), axis=0)\n",
    "    \n",
    "list = glob.glob('./work/dataset/flowers/*')\n",
    "for i in list:\n",
    "    im_reading = np.array( Image.open(i).resize((50,50)))\n",
    "    im_reading = im_reading.transpose(2,0,1)\n",
    "    image = np.append(image, [im_reading], axis=0)\n",
    "    result = np.append(result, np.array([[0,1]]), axis=0)"
   ]
  },
  {
   "cell_type": "code",
   "execution_count": 104,
   "metadata": {},
   "outputs": [
    {
     "name": "stdout",
     "output_type": "stream",
     "text": [
      "(6, 3, 50, 50)\n",
      "[1 0]\n"
     ]
    },
    {
     "data": {
      "image/png": "[encoded data removed]",
      "text/plain": [
       "<matplotlib.figure.Figure at 0x7f3364dc75c0>"
      ]
     },
     "metadata": {},
     "output_type": "display_data"
    }
   ],
   "source": [
    "number = 1\n",
    "print(image.shape)\n",
    "plt.imshow( image[number].transpose(1,2,0) )\n",
    "print(result[number])"
   ]
  },
  {
   "cell_type": "code",
   "execution_count": 105,
   "metadata": {},
   "outputs": [],
   "source": [
    "from sklearn.cross_validation import train_test_split\n",
    "data_train, data_test, labels_train, labels_test = train_test_split(image,result, test_size=0.10, random_state=10)"
   ]
  },
  {
   "cell_type": "code",
   "execution_count": 106,
   "metadata": {},
   "outputs": [
    {
     "name": "stderr",
     "output_type": "stream",
     "text": [
      "/opt/conda/lib/python3.6/site-packages/ipykernel_launcher.py:2: UserWarning: Update your `Conv2D` call to the Keras 2 API: `Conv2D(96, (3, 3), activation=\"relu\", input_shape=(3, 50, 50..., padding=\"same\")`\n",
      "  \n",
      "/opt/conda/lib/python3.6/site-packages/ipykernel_launcher.py:3: UserWarning: Update your `Conv2D` call to the Keras 2 API: `Conv2D(96, (3, 3), activation=\"relu\", padding=\"same\")`\n",
      "  This is separate from the ipykernel package so we can avoid doing imports until\n",
      "/opt/conda/lib/python3.6/site-packages/ipykernel_launcher.py:4: UserWarning: Update your `MaxPooling2D` call to the Keras 2 API: `MaxPooling2D(pool_size=(2, 2), data_format=\"channels_first\")`\n",
      "  after removing the cwd from sys.path.\n",
      "/opt/conda/lib/python3.6/site-packages/ipykernel_launcher.py:5: UserWarning: Update your `Conv2D` call to the Keras 2 API: `Conv2D(96, (3, 3), activation=\"relu\", padding=\"same\")`\n",
      "  \"\"\"\n",
      "/opt/conda/lib/python3.6/site-packages/ipykernel_launcher.py:6: UserWarning: Update your `Conv2D` call to the Keras 2 API: `Conv2D(96, (3, 3), activation=\"relu\", padding=\"same\")`\n",
      "  \n",
      "/opt/conda/lib/python3.6/site-packages/ipykernel_launcher.py:7: UserWarning: Update your `MaxPooling2D` call to the Keras 2 API: `MaxPooling2D(pool_size=(2, 2), data_format=\"channels_first\")`\n",
      "  import sys\n",
      "/opt/conda/lib/python3.6/site-packages/ipykernel_launcher.py:8: UserWarning: Update your `Conv2D` call to the Keras 2 API: `Conv2D(96, (3, 3), activation=\"relu\", padding=\"same\")`\n",
      "  \n",
      "/opt/conda/lib/python3.6/site-packages/ipykernel_launcher.py:9: UserWarning: Update your `Conv2D` call to the Keras 2 API: `Conv2D(96, (3, 3), activation=\"relu\", padding=\"same\")`\n",
      "  if __name__ == '__main__':\n",
      "/opt/conda/lib/python3.6/site-packages/ipykernel_launcher.py:10: UserWarning: Update your `MaxPooling2D` call to the Keras 2 API: `MaxPooling2D(pool_size=(2, 2), data_format=\"channels_first\")`\n",
      "  # Remove the CWD from sys.path while we load stuff.\n"
     ]
    }
   ],
   "source": [
    "model = Sequential()\n",
    "model.add(Conv2D(96, 3, 3, border_mode=\"same\", activation=\"relu\" ,input_shape=(3, 50, 50) ))\n",
    "model.add(Conv2D(96, 3, 3, border_mode=\"same\", activation=\"relu\"))\n",
    "model.add(MaxPooling2D(pool_size=(2,2), dim_ordering='th'))\n",
    "model.add(Conv2D(96, 3, 3, border_mode=\"same\", activation=\"relu\"))\n",
    "model.add(Conv2D(96, 3, 3, border_mode=\"same\", activation=\"relu\"))\n",
    "model.add(MaxPooling2D(pool_size=(2,2), dim_ordering='th'))\n",
    "model.add(Conv2D(96, 3, 3, border_mode=\"same\", activation=\"relu\"))\n",
    "model.add(Conv2D(96, 3, 3, border_mode=\"same\", activation=\"relu\"))\n",
    "model.add(MaxPooling2D(pool_size=(2,2), dim_ordering='th'))\n",
    "model.add(Dropout(0.5))\n",
    "\n",
    "model.add(Flatten())\n",
    "model.add(Dense(512))\n",
    "model.add(Activation(\"relu\"))\n",
    "model.add(Dense(10))\n",
    "model.add(Activation(\"relu\"))\n",
    "model.add(Dense(2))\n",
    "model.add(Activation(\"sigmoid\"))\n",
    "#model.summary()\n",
    "model.compile(loss='binary_crossentropy', optimizer=\"adadelta\", metrics=['accuracy'])"
   ]
  },
  {
   "cell_type": "code",
   "execution_count": 107,
   "metadata": {},
   "outputs": [
    {
     "name": "stderr",
     "output_type": "stream",
     "text": [
      "/opt/conda/lib/python3.6/site-packages/keras/models.py:981: UserWarning: The `nb_epoch` argument in `fit` has been renamed `epochs`.\n",
      "  warnings.warn('The `nb_epoch` argument in `fit` '\n"
     ]
    },
    {
     "name": "stdout",
     "output_type": "stream",
     "text": [
      "Train on 5 samples, validate on 1 samples\n",
      "Epoch 1/20\n",
      "5/5 [==============================] - 2s 479ms/step - loss: 5.2476 - acc: 0.5000 - val_loss: 5.1690e-07 - val_acc: 1.0000\n",
      "Epoch 2/20\n",
      "5/5 [==============================] - 0s 48ms/step - loss: 8.0063 - acc: 0.5000 - val_loss: 5.3675e-07 - val_acc: 1.0000\n",
      "Epoch 3/20\n",
      "5/5 [==============================] - 0s 25ms/step - loss: 8.0063 - acc: 0.5000 - val_loss: 5.3675e-07 - val_acc: 1.0000\n",
      "Epoch 4/20\n",
      "5/5 [==============================] - 0s 34ms/step - loss: 9.6181 - acc: 0.4000 - val_loss: 5.3675e-07 - val_acc: 1.0000\n",
      "Epoch 5/20\n",
      "5/5 [==============================] - 1s 269ms/step - loss: 6.5804 - acc: 0.5000 - val_loss: 7.9712 - val_acc: 0.5000\n",
      "Epoch 6/20\n",
      "5/5 [==============================] - 1s 224ms/step - loss: 7.9712 - acc: 0.5000 - val_loss: 7.9712 - val_acc: 0.5000\n",
      "Epoch 7/20\n",
      "5/5 [==============================] - 1s 107ms/step - loss: 7.9712 - acc: 0.5000 - val_loss: 7.9712 - val_acc: 0.5000\n",
      "Epoch 8/20\n",
      "5/5 [==============================] - 1s 178ms/step - loss: 7.9712 - acc: 0.5000 - val_loss: 7.9712 - val_acc: 0.5000\n",
      "Epoch 9/20\n",
      "5/5 [==============================] - 0s 56ms/step - loss: 7.9712 - acc: 0.5000 - val_loss: 7.9712 - val_acc: 0.5000\n",
      "Epoch 10/20\n",
      "5/5 [==============================] - 0s 32ms/step - loss: 7.9712 - acc: 0.5000 - val_loss: 7.9712 - val_acc: 0.5000\n",
      "Epoch 11/20\n",
      "5/5 [==============================] - 0s 61ms/step - loss: 7.9712 - acc: 0.5000 - val_loss: 7.9712 - val_acc: 0.5000\n",
      "Epoch 12/20\n",
      "5/5 [==============================] - 0s 57ms/step - loss: 7.9712 - acc: 0.5000 - val_loss: 7.9712 - val_acc: 0.5000\n",
      "Epoch 13/20\n",
      "5/5 [==============================] - 0s 84ms/step - loss: 7.9712 - acc: 0.5000 - val_loss: 7.9712 - val_acc: 0.5000\n",
      "Epoch 14/20\n",
      "5/5 [==============================] - 0s 35ms/step - loss: 7.9712 - acc: 0.5000 - val_loss: 7.9712 - val_acc: 0.5000\n",
      "Epoch 15/20\n",
      "5/5 [==============================] - 0s 37ms/step - loss: 7.9712 - acc: 0.5000 - val_loss: 7.9712 - val_acc: 0.5000\n",
      "Epoch 16/20\n",
      "5/5 [==============================] - 0s 27ms/step - loss: 7.9712 - acc: 0.5000 - val_loss: 7.9712 - val_acc: 0.5000\n",
      "Epoch 17/20\n",
      "5/5 [==============================] - 0s 35ms/step - loss: 7.9712 - acc: 0.5000 - val_loss: 7.9712 - val_acc: 0.5000\n",
      "Epoch 18/20\n",
      "5/5 [==============================] - 0s 36ms/step - loss: 7.9712 - acc: 0.5000 - val_loss: 7.9712 - val_acc: 0.5000\n",
      "Epoch 19/20\n",
      "5/5 [==============================] - 0s 40ms/step - loss: 7.9712 - acc: 0.5000 - val_loss: 7.9712 - val_acc: 0.5000\n",
      "Epoch 20/20\n",
      "5/5 [==============================] - 0s 35ms/step - loss: 7.9712 - acc: 0.5000 - val_loss: 7.9712 - val_acc: 0.5000\n"
     ]
    }
   ],
   "source": [
    "hist = model.fit(data_train, labels_train, nb_epoch=20, batch_size=32, validation_data=(data_test, labels_test))"
   ]
  },
  {
   "cell_type": "code",
   "execution_count": 108,
   "metadata": {},
   "outputs": [],
   "source": [
    "loss = hist.history['loss']\n",
    "val_loss = hist.history['val_loss']"
   ]
  },
  {
   "cell_type": "code",
   "execution_count": 109,
   "metadata": {},
   "outputs": [
    {
     "data": {
      "image/png": "[encoded data removed]",
      "text/plain": [
       "<matplotlib.figure.Figure at 0x7f3364fc3828>"
      ]
     },
     "metadata": {},
     "output_type": "display_data"
    }
   ],
   "source": [
    "nb_epoch = len(loss)\n",
    "plt.plot(range(nb_epoch), loss, marker='.', label='loss')\n",
    "plt.plot(range(nb_epoch), val_loss, marker='.', label='val_loss')\n",
    "plt.legend(loc='best', fontsize=10)\n",
    "plt.grid()\n",
    "plt.xlabel('epoch')\n",
    "plt.ylabel('loss')\n",
    "plt.show()"
   ]
  }
 ],
 "metadata": {
  "kernelspec": {
   "display_name": "Python 3",
   "language": "python",
   "name": "python3"
  },
  "language_info": {
   "codemirror_mode": {
    "name": "ipython",
    "version": 3
   },
   "file_extension": ".py",
   "mimetype": "text/x-python",
   "name": "python",
   "nbconvert_exporter": "python",
   "pygments_lexer": "ipython3",
   "version": "3.6.4"
  }
 },
 "nbformat": 4,
 "nbformat_minor": 2
}

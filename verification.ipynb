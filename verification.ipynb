{
  "nbformat": 4,
  "nbformat_minor": 0,
  "metadata": {
    "colab": {
      "name": "verification.ipynb",
      "version": "0.3.2",
      "views": {},
      "default_view": {},
      "provenance": [],
      "collapsed_sections": []
    },
    "kernelspec": {
      "name": "python3",
      "display_name": "Python 3"
    }
  },
  "cells": [
    {
      "metadata": {
        "id": "DLpBMCqY0t9f",
        "colab_type": "text"
      },
      "cell_type": "markdown",
      "source": [
        "## 学習済みモデルの転移学習"
      ]
    },
    {
      "metadata": {
        "id": "ubyn3Dfx011d",
        "colab_type": "code",
        "colab": {
          "autoexec": {
            "startup": false,
            "wait_interval": 0
          },
          "base_uri": "https://localhost:8080/",
          "height": 136
        },
        "outputId": "8c853923-5817-4494-8809-1ad21918d8f7",
        "executionInfo": {
          "status": "ok",
          "timestamp": 1531631061892,
          "user_tz": -540,
          "elapsed": 17751,
          "user": {
            "displayName": "Daiki Futami",
            "photoUrl": "https://lh3.googleusercontent.com/a/default-user=s128",
            "userId": "109924926962256840099"
          }
        }
      },
      "cell_type": "code",
      "source": [
        "!apt-get install -y -qq software-properties-common python-software-properties module-init-tools\n",
        "!add-apt-repository -y ppa:alessandro-strada/ppa 2>&1 > /dev/null\n",
        "!apt-get update -qq 2>&1 > /dev/null\n",
        "!apt-get -y install -qq google-drive-ocamlfuse fuse\n",
        "from google.colab import auth\n",
        "auth.authenticate_user()\n",
        "from oauth2client.client import GoogleCredentials\n",
        "creds = GoogleCredentials.get_application_default()\n",
        "import getpass\n",
        "!google-drive-ocamlfuse -headless -id={creds.client_id} -secret={creds.client_secret} < /dev/null 2>&1 | grep URL\n",
        "vcode = getpass.getpass()\n",
        "!echo {vcode} | google-drive-ocamlfuse -headless -id={creds.client_id} -secret={creds.client_secret}"
      ],
      "execution_count": 54,
      "outputs": [
        {
          "output_type": "stream",
          "text": [
            "gpg: keybox '/tmp/tmp5h7q6ziz/pubring.gpg' created\n",
            "gpg: /tmp/tmp5h7q6ziz/trustdb.gpg: trustdb created\n",
            "gpg: key AD5F235DF639B041: public key \"Launchpad PPA for Alessandro Strada\" imported\n",
            "gpg: Total number processed: 1\n",
            "gpg:               imported: 1\n",
            "Warning: apt-key output should not be parsed (stdout is not a terminal)\n",
            "··········\n"
          ],
          "name": "stdout"
        }
      ]
    },
    {
      "metadata": {
        "id": "Tasp-3pIbw48",
        "colab_type": "text"
      },
      "cell_type": "markdown",
      "source": [
        "ディレクトリを認識させるため"
      ]
    },
    {
      "metadata": {
        "id": "Qjx9G7vZQYd5",
        "colab_type": "code",
        "colab": {
          "autoexec": {
            "startup": false,
            "wait_interval": 0
          },
          "base_uri": "https://localhost:8080/",
          "height": 68
        },
        "outputId": "997f1f0a-4373-410e-a6ea-bf4986de5d37",
        "executionInfo": {
          "status": "ok",
          "timestamp": 1531631066603,
          "user_tz": -540,
          "elapsed": 4645,
          "user": {
            "displayName": "Daiki Futami",
            "photoUrl": "https://lh3.googleusercontent.com/a/default-user=s128",
            "userId": "109924926962256840099"
          }
        }
      },
      "cell_type": "code",
      "source": [
        "!mkdir -p drive\n",
        "!google-drive-ocamlfuse drive\n",
        "!ls drive/\"Colab Notebooks\"/ver"
      ],
      "execution_count": 55,
      "outputs": [
        {
          "output_type": "stream",
          "text": [
            "fuse: mountpoint is not empty\r\n",
            "fuse: if you are sure this is safe, use the 'nonempty' mount option\n",
            "ver01.jpg  ver02.jpg  ver03.jpeg\n"
          ],
          "name": "stdout"
        }
      ]
    },
    {
      "metadata": {
        "id": "kVCXtMUm0fUA",
        "colab_type": "code",
        "colab": {
          "autoexec": {
            "startup": false,
            "wait_interval": 0
          }
        }
      },
      "cell_type": "code",
      "source": [
        "from keras.applications.inception_v3 import InceptionV3, preprocess_input\n",
        "from keras.applications.imagenet_utils import decode_predictions\n",
        "from keras.preprocessing import image\n",
        "from keras.models import load_model\n",
        "import numpy as np\n",
        "import h5py \n",
        "\n"
      ],
      "execution_count": 0,
      "outputs": []
    },
    {
      "metadata": {
        "id": "1FMq3TY00rzi",
        "colab_type": "code",
        "colab": {
          "autoexec": {
            "startup": false,
            "wait_interval": 0
          },
          "base_uri": "https://localhost:8080/",
          "height": 34
        },
        "outputId": "a681524d-5778-4a7d-d230-4f8b68918e98",
        "executionInfo": {
          "status": "ok",
          "timestamp": 1531632155181,
          "user_tz": -540,
          "elapsed": 159871,
          "user": {
            "displayName": "Daiki Futami",
            "photoUrl": "https://lh3.googleusercontent.com/a/default-user=s128",
            "userId": "109924926962256840099"
          }
        }
      },
      "cell_type": "code",
      "source": [
        "model = load_model(filepath = 'drive/Colab Notebooks/model/ine_03.h5') # Load a model and its weights\n",
        "\n",
        "img = image.load_img('drive/Colab Notebooks/ver/ver01.jpg', target_size=(150, 150))\n",
        "x = image.img_to_array(img) # x.shape=(299, 299, 3)\n",
        "x = np.expand_dims(x, axis=0) # Add an axis of batch-size. x.shape=(1, 299, 299, 3)\n",
        "y_pred = model.predict(x)\n",
        "if y_pred >0.5:\n",
        "  print (y_pred[0][0], 'ine')\n",
        "else:\n",
        "  print (y_pred[0][0], 'other')"
      ],
      "execution_count": 64,
      "outputs": [
        {
          "output_type": "stream",
          "text": [
            "2.9379863e-15 other\n"
          ],
          "name": "stdout"
        }
      ]
    }
  ]
}
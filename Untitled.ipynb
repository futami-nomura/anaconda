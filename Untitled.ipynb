{
  "nbformat": 4,
  "nbformat_minor": 0,
  "metadata": {
    "colab": {
      "name": "Untitled.ipynb",
      "version": "0.3.2",
      "views": {},
      "default_view": {},
      "provenance": []
    },
    "kernelspec": {
      "name": "python3",
      "display_name": "Python 3"
    },
    "accelerator": "GPU"
  },
  "cells": [
    {
      "metadata": {
        "id": "jHg0gYmM78KJ",
        "colab_type": "code",
        "colab": {
          "autoexec": {
            "startup": false,
            "wait_interval": 0
          },
          "base_uri": "https://localhost:8080/",
          "height": 136
        },
        "outputId": "448f03a2-76ff-4cfc-b32a-c2706d540e8d",
        "executionInfo": {
          "status": "ok",
          "timestamp": 1531627236681,
          "user_tz": -540,
          "elapsed": 17616,
          "user": {
            "displayName": "Daiki Futami",
            "photoUrl": "https://lh3.googleusercontent.com/a/default-user=s128",
            "userId": "109924926962256840099"
          }
        }
      },
      "cell_type": "code",
      "source": [
        "!apt-get install -y -qq software-properties-common python-software-properties module-init-tools\n",
        "!add-apt-repository -y ppa:alessandro-strada/ppa 2>&1 > /dev/null\n",
        "!apt-get update -qq 2>&1 > /dev/null\n",
        "!apt-get -y install -qq google-drive-ocamlfuse fuse\n",
        "from google.colab import auth\n",
        "auth.authenticate_user()\n",
        "from oauth2client.client import GoogleCredentials\n",
        "creds = GoogleCredentials.get_application_default()\n",
        "import getpass\n",
        "!google-drive-ocamlfuse -headless -id={creds.client_id} -secret={creds.client_secret} < /dev/null 2>&1 | grep URL\n",
        "vcode = getpass.getpass()\n",
        "!echo {vcode} | google-drive-ocamlfuse -headless -id={creds.client_id} -secret={creds.client_secret}"
      ],
      "execution_count": 12,
      "outputs": [
        {
          "output_type": "stream",
          "text": [
            "gpg: keybox '/tmp/tmpyr4lnmhj/pubring.gpg' created\n",
            "gpg: /tmp/tmpyr4lnmhj/trustdb.gpg: trustdb created\n",
            "gpg: key AD5F235DF639B041: public key \"Launchpad PPA for Alessandro Strada\" imported\n",
            "gpg: Total number processed: 1\n",
            "gpg:               imported: 1\n",
            "Warning: apt-key output should not be parsed (stdout is not a terminal)\n",
            "··········\n"
          ],
          "name": "stdout"
        }
      ]
    },
    {
      "metadata": {
        "id": "sRmZVRKe8Cq4",
        "colab_type": "code",
        "colab": {
          "autoexec": {
            "startup": false,
            "wait_interval": 0
          }
        }
      },
      "cell_type": "code",
      "source": [
        "from keras.applications.inception_v3 import InceptionV3\n",
        "from keras.applications.inception_v3 import preprocess_input\n",
        "from keras.models import Sequential, Model\n",
        "from keras.layers import Dense, Dropout, Activation, Flatten\n",
        "from keras.layers import Convolution2D, MaxPooling2D, ZeroPadding2D, GlobalAveragePooling2D, AveragePooling2D\n",
        "from keras.preprocessing.image import ImageDataGenerator\n",
        "from keras.callbacks import ModelCheckpoint, CSVLogger, LearningRateScheduler, ReduceLROnPlateau\n",
        "from keras.optimizers import SGD\n",
        "from keras import optimizers\n",
        "from keras.regularizers import l2\n",
        "import matplotlib.image as mpimg\n",
        "from scipy.misc import imresize\n",
        "from keras.callbacks import EarlyStopping \n",
        "import numpy as np\n",
        "import keras.backend as K\n",
        "import math"
      ],
      "execution_count": 0,
      "outputs": []
    },
    {
      "metadata": {
        "id": "Z6BDzXza8FNz",
        "colab_type": "code",
        "colab": {
          "autoexec": {
            "startup": false,
            "wait_interval": 0
          }
        }
      },
      "cell_type": "code",
      "source": [
        "base_model = InceptionV3(weights='imagenet', include_top=False)\n",
        "x = base_model.output\n",
        "x = GlobalAveragePooling2D()(x)\n",
        "x = Dense(1024, activation=\"relu\")(x)\n",
        "x = Dropout(0.5)(x)\n",
        "x = Dense(256, activation=\"relu\")(x)\n",
        "predictions = Dense(1, activation=\"sigmoid\")(x)\n",
        "\n",
        "model = Model(inputs=base_model.input, outputs=predictions)\n",
        "\n",
        "for layer in model.layers[:249]:\n",
        "   layer.trainable = False\n",
        "for layer in model.layers[249:]:\n",
        "   layer.trainable = True\n",
        "\n",
        "model.compile(loss = \"binary_crossentropy\", optimizer = optimizers.SGD(lr=0.0001, momentum=0.9), metrics=[\"accuracy\"])\n"
      ],
      "execution_count": 0,
      "outputs": []
    },
    {
      "metadata": {
        "id": "kO5NeKvG8MRM",
        "colab_type": "code",
        "colab": {
          "autoexec": {
            "startup": false,
            "wait_interval": 0
          },
          "base_uri": "https://localhost:8080/",
          "height": 460
        },
        "outputId": "bdbe25f0-c770-4243-8ea7-43598f16193c",
        "executionInfo": {
          "status": "error",
          "timestamp": 1531627262903,
          "user_tz": -540,
          "elapsed": 775,
          "user": {
            "displayName": "Daiki Futami",
            "photoUrl": "https://lh3.googleusercontent.com/a/default-user=s128",
            "userId": "109924926962256840099"
          }
        }
      },
      "cell_type": "code",
      "source": [
        "train_datagen = ImageDataGenerator(\n",
        "    rescale = 1./255,\n",
        "    horizontal_flip = True,\n",
        "    fill_mode = \"nearest\",\n",
        "    zoom_range = 0.3,\n",
        "    width_shift_range = 0.3,\n",
        "    height_shift_range=0.3,\n",
        "    rotation_range=90)\n",
        "train_generator = train_datagen.flow_from_directory(\n",
        "    'drive/train',\n",
        "    target_size = (150,150),\n",
        "    batch_size = 1,\n",
        "    class_mode = 'binary')"
      ],
      "execution_count": 15,
      "outputs": [
        {
          "output_type": "error",
          "ename": "FileNotFoundError",
          "evalue": "ignored",
          "traceback": [
            "\u001b[0;31m---------------------------------------------------------------------------\u001b[0m",
            "\u001b[0;31mFileNotFoundError\u001b[0m                         Traceback (most recent call last)",
            "\u001b[0;32m<ipython-input-15-3339c9252d85>\u001b[0m in \u001b[0;36m<module>\u001b[0;34m()\u001b[0m\n\u001b[1;32m     11\u001b[0m     \u001b[0mtarget_size\u001b[0m \u001b[0;34m=\u001b[0m \u001b[0;34m(\u001b[0m\u001b[0;36m150\u001b[0m\u001b[0;34m,\u001b[0m\u001b[0;36m150\u001b[0m\u001b[0;34m)\u001b[0m\u001b[0;34m,\u001b[0m\u001b[0;34m\u001b[0m\u001b[0m\n\u001b[1;32m     12\u001b[0m     \u001b[0mbatch_size\u001b[0m \u001b[0;34m=\u001b[0m \u001b[0;36m1\u001b[0m\u001b[0;34m,\u001b[0m\u001b[0;34m\u001b[0m\u001b[0m\n\u001b[0;32m---> 13\u001b[0;31m     class_mode = 'binary')\n\u001b[0m",
            "\u001b[0;32m/usr/local/lib/python3.6/dist-packages/keras/preprocessing/image.py\u001b[0m in \u001b[0;36mflow_from_directory\u001b[0;34m(self, directory, target_size, color_mode, classes, class_mode, batch_size, shuffle, seed, save_to_dir, save_prefix, save_format, follow_links, subset, interpolation)\u001b[0m\n\u001b[1;32m    773\u001b[0m             \u001b[0mfollow_links\u001b[0m\u001b[0;34m=\u001b[0m\u001b[0mfollow_links\u001b[0m\u001b[0;34m,\u001b[0m\u001b[0;34m\u001b[0m\u001b[0m\n\u001b[1;32m    774\u001b[0m             \u001b[0msubset\u001b[0m\u001b[0;34m=\u001b[0m\u001b[0msubset\u001b[0m\u001b[0;34m,\u001b[0m\u001b[0;34m\u001b[0m\u001b[0m\n\u001b[0;32m--> 775\u001b[0;31m             interpolation=interpolation)\n\u001b[0m\u001b[1;32m    776\u001b[0m \u001b[0;34m\u001b[0m\u001b[0m\n\u001b[1;32m    777\u001b[0m     \u001b[0;32mdef\u001b[0m \u001b[0mstandardize\u001b[0m\u001b[0;34m(\u001b[0m\u001b[0mself\u001b[0m\u001b[0;34m,\u001b[0m \u001b[0mx\u001b[0m\u001b[0;34m)\u001b[0m\u001b[0;34m:\u001b[0m\u001b[0;34m\u001b[0m\u001b[0m\n",
            "\u001b[0;32m/usr/local/lib/python3.6/dist-packages/keras/preprocessing/image.py\u001b[0m in \u001b[0;36m__init__\u001b[0;34m(self, directory, image_data_generator, target_size, color_mode, classes, class_mode, batch_size, shuffle, seed, data_format, save_to_dir, save_prefix, save_format, follow_links, subset, interpolation)\u001b[0m\n\u001b[1;32m   1390\u001b[0m         \u001b[0;32mif\u001b[0m \u001b[0;32mnot\u001b[0m \u001b[0mclasses\u001b[0m\u001b[0;34m:\u001b[0m\u001b[0;34m\u001b[0m\u001b[0m\n\u001b[1;32m   1391\u001b[0m             \u001b[0mclasses\u001b[0m \u001b[0;34m=\u001b[0m \u001b[0;34m[\u001b[0m\u001b[0;34m]\u001b[0m\u001b[0;34m\u001b[0m\u001b[0m\n\u001b[0;32m-> 1392\u001b[0;31m             \u001b[0;32mfor\u001b[0m \u001b[0msubdir\u001b[0m \u001b[0;32min\u001b[0m \u001b[0msorted\u001b[0m\u001b[0;34m(\u001b[0m\u001b[0mos\u001b[0m\u001b[0;34m.\u001b[0m\u001b[0mlistdir\u001b[0m\u001b[0;34m(\u001b[0m\u001b[0mdirectory\u001b[0m\u001b[0;34m)\u001b[0m\u001b[0;34m)\u001b[0m\u001b[0;34m:\u001b[0m\u001b[0;34m\u001b[0m\u001b[0m\n\u001b[0m\u001b[1;32m   1393\u001b[0m                 \u001b[0;32mif\u001b[0m \u001b[0mos\u001b[0m\u001b[0;34m.\u001b[0m\u001b[0mpath\u001b[0m\u001b[0;34m.\u001b[0m\u001b[0misdir\u001b[0m\u001b[0;34m(\u001b[0m\u001b[0mos\u001b[0m\u001b[0;34m.\u001b[0m\u001b[0mpath\u001b[0m\u001b[0;34m.\u001b[0m\u001b[0mjoin\u001b[0m\u001b[0;34m(\u001b[0m\u001b[0mdirectory\u001b[0m\u001b[0;34m,\u001b[0m \u001b[0msubdir\u001b[0m\u001b[0;34m)\u001b[0m\u001b[0;34m)\u001b[0m\u001b[0;34m:\u001b[0m\u001b[0;34m\u001b[0m\u001b[0m\n\u001b[1;32m   1394\u001b[0m                     \u001b[0mclasses\u001b[0m\u001b[0;34m.\u001b[0m\u001b[0mappend\u001b[0m\u001b[0;34m(\u001b[0m\u001b[0msubdir\u001b[0m\u001b[0;34m)\u001b[0m\u001b[0;34m\u001b[0m\u001b[0m\n",
            "\u001b[0;31mFileNotFoundError\u001b[0m: [Errno 2] No such file or directory: 'drive/train'"
          ]
        }
      ]
    },
    {
      "metadata": {
        "id": "J_Fh_H8C8PN5",
        "colab_type": "code",
        "colab": {
          "autoexec": {
            "startup": false,
            "wait_interval": 0
          },
          "base_uri": "https://localhost:8080/",
          "height": 802
        },
        "outputId": "a7473ebb-6354-4285-a544-9825a6a75391",
        "executionInfo": {
          "status": "ok",
          "timestamp": 1531560442843,
          "user_tz": -540,
          "elapsed": 393655,
          "user": {
            "displayName": "Daiki Futami",
            "photoUrl": "https://lh3.googleusercontent.com/a/default-user=s128",
            "userId": "109924926962256840099"
          }
        }
      },
      "cell_type": "code",
      "source": [
        "checkpoint = ModelCheckpoint(\"drive/model/ine_{epoch:02d}.hdf5\", monitor='val_acc', verbose=1, save_best_only=True, save_weights_only=False, mode='auto', period=1)\n",
        "early = EarlyStopping(monitor='val_acc', min_delta=0, patience=10, verbose=1, mode='auto')\n",
        "\n",
        "model.fit_generator(\n",
        "    train_generator,\n",
        "    samples_per_epoch = 1,\n",
        "    epochs = 30,\n",
        "    nb_val_samples = 10,\n",
        "    validation_data = train_generator,\n",
        "    callbacks = [checkpoint, early])"
      ],
      "execution_count": 62,
      "outputs": [
        {
          "output_type": "stream",
          "text": [
            "/usr/local/lib/python3.6/dist-packages/ipykernel_launcher.py:10: UserWarning: The semantics of the Keras 2 argument `steps_per_epoch` is not the same as the Keras 1 argument `samples_per_epoch`. `steps_per_epoch` is the number of batches to draw from the generator at each epoch. Basically steps_per_epoch = samples_per_epoch/batch_size. Similarly `nb_val_samples`->`validation_steps` and `val_samples`->`steps` arguments have changed. Update your method calls accordingly.\n",
            "  # Remove the CWD from sys.path while we load stuff.\n",
            "/usr/local/lib/python3.6/dist-packages/ipykernel_launcher.py:10: UserWarning: Update your `fit_generator` call to the Keras 2 API: `fit_generator(<keras.pre..., epochs=10, validation_data=<keras.pre..., callbacks=[<keras.ca..., steps_per_epoch=1, validation_steps=10)`\n",
            "  # Remove the CWD from sys.path while we load stuff.\n"
          ],
          "name": "stderr"
        },
        {
          "output_type": "stream",
          "text": [
            "Epoch 1/10\n",
            "1/1 [==============================] - 28s 28s/step - loss: 0.9295 - acc: 0.0000e+00 - val_loss: 0.5014 - val_acc: 0.7000\n",
            "\n",
            "Epoch 00001: val_acc improved from -inf to 0.70000, saving model to drive/model/ine_01.h5\n",
            "Epoch 2/10\n",
            "1/1 [==============================] - 1s 765ms/step - loss: 0.5656 - acc: 1.0000 - val_loss: 0.5466 - val_acc: 0.7000\n",
            "\n",
            "Epoch 00002: val_acc did not improve from 0.70000\n",
            "Epoch 3/10\n",
            "1/1 [==============================] - 1s 857ms/step - loss: 0.8522 - acc: 0.0000e+00 - val_loss: 0.4093 - val_acc: 0.8000\n",
            "\n",
            "Epoch 00003: val_acc improved from 0.70000 to 0.80000, saving model to drive/model/ine_03.h5\n",
            "Epoch 4/10\n",
            "1/1 [==============================] - 1s 681ms/step - loss: 0.7191 - acc: 0.0000e+00 - val_loss: 0.5067 - val_acc: 0.7000\n",
            "\n",
            "Epoch 00004: val_acc did not improve from 0.80000\n",
            "Epoch 5/10\n",
            "1/1 [==============================] - 1s 694ms/step - loss: 0.6732 - acc: 1.0000 - val_loss: 0.8489 - val_acc: 0.5000\n",
            "\n",
            "Epoch 00005: val_acc did not improve from 0.80000\n",
            "Epoch 6/10\n",
            "1/1 [==============================] - 1s 766ms/step - loss: 0.6847 - acc: 1.0000 - val_loss: 0.4741 - val_acc: 0.7000\n",
            "\n",
            "Epoch 00006: val_acc did not improve from 0.80000\n",
            "Epoch 7/10\n",
            "1/1 [==============================] - 1s 715ms/step - loss: 0.6687 - acc: 1.0000 - val_loss: 0.6185 - val_acc: 0.7000\n",
            "\n",
            "Epoch 00007: val_acc did not improve from 0.80000\n",
            "Epoch 8/10\n",
            "1/1 [==============================] - 1s 674ms/step - loss: 0.6827 - acc: 1.0000 - val_loss: 0.6158 - val_acc: 0.5000\n",
            "\n",
            "Epoch 00008: val_acc did not improve from 0.80000\n",
            "Epoch 9/10\n",
            "1/1 [==============================] - 1s 666ms/step - loss: 0.6692 - acc: 1.0000 - val_loss: 0.6367 - val_acc: 0.6000\n",
            "\n",
            "Epoch 00009: val_acc did not improve from 0.80000\n",
            "Epoch 10/10\n",
            "1/1 [==============================] - 1s 654ms/step - loss: 0.7258 - acc: 0.0000e+00 - val_loss: 0.5999 - val_acc: 0.6000\n",
            "\n",
            "Epoch 00010: val_acc did not improve from 0.80000\n"
          ],
          "name": "stdout"
        },
        {
          "output_type": "execute_result",
          "data": {
            "text/plain": [
              "<keras.callbacks.History at 0x7f16dcef0b38>"
            ]
          },
          "metadata": {
            "tags": []
          },
          "execution_count": 62
        }
      ]
    }
  ]
}